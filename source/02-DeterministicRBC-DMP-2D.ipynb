{
 "cells": [
  {
   "cell_type": "markdown",
   "metadata": {},
   "source": [
    "# Deterministic Real-Business Cycle Model"
   ]
  },
  {
   "cell_type": "code",
   "execution_count": 1,
   "metadata": {},
   "outputs": [],
   "source": [
    "# Load packages\n",
    "using Optim\n",
    "using Plots\n",
    "using Statistics\n",
    "using NLsolve"
   ]
  },
  {
   "cell_type": "code",
   "execution_count": 2,
   "metadata": {},
   "outputs": [
    {
     "data": {
      "text/plain": [
       "fun_max_index (generic function with 1 method)"
      ]
     },
     "execution_count": 2,
     "metadata": {},
     "output_type": "execute_result"
    }
   ],
   "source": [
    "# Functions\n",
    "function fun_max(mX)\n",
    "    # Find maximum of a matrix along the columns\n",
    "    # Input: mX of dimension m x n\n",
    "    # Output vMax of dimension n\n",
    "    iCols = size(mX, 2);\n",
    "    vMax = zeros(iCols,1);\n",
    "    for i = 1:iCols\n",
    "            temp_max = findmax( mX[:,i] );\n",
    "            vMax[i] = temp_max[1];\n",
    "    end\n",
    "    return vMax;\n",
    "end\n",
    "\n",
    "function fun_max_index(mX)\n",
    "    # Find maximum of a matrix along the columns\n",
    "    # and give the index\n",
    "    # Input: mX of dimension m x n\n",
    "    # Output vMax of dimension n\n",
    "    iCols = size(mX, 2);\n",
    "    vMax_index = zeros(iCols,1);\n",
    "    for i = 1:iCols\n",
    "            temp_max = findmax( mX[:,i] );\n",
    "            vMax_index[i] = temp_max[2];\n",
    "    end\n",
    "    return vMax_index;\n",
    "end"
   ]
  },
  {
   "cell_type": "code",
   "execution_count": 3,
   "metadata": {},
   "outputs": [],
   "source": [
    "# Structural parameters\n",
    "pAlpha = 0.36;\n",
    "pBeta = 0.99;\n",
    "pDelta = 0.022;\n",
    "pTheta = 1;\n",
    "pEta = 1;\n",
    "pMu_m = 1;\n",
    "pGamma = 0.05;\n",
    "pGamma_n = -1/1.25;\n",
    "pAlpha_m = 0.40;\n",
    "pRho_x = 0.07;\n",
    "pMu = 0.004;\n",
    "pA = 0.05;\n",
    "pC0 = 0.005;\n",
    "pRho = 0.95;\n",
    "pSigmaeps = 0.007;\n",
    "pMuz = 1;"
   ]
  },
  {
   "cell_type": "code",
   "execution_count": 5,
   "metadata": {},
   "outputs": [],
   "source": [
    "# Computing the steady state values\n",
    "PARAMS = [ pAlpha, pAlpha_m, pTheta, pGamma_n, pC0, pEta, pDelta, pRho_x, pMu_m, pGamma, pBeta ];\n",
    "function f!(F,x,PARAMS)\n",
    "\n",
    "    # 1  2  3  4  5    6     7\n",
    "    # c, v, s, k, n, lambda, mu\n",
    "\n",
    "    pAlpha = PARAMS[1];\n",
    "    pAlpha_m = PARAMS[2];\n",
    "    pTheta = PARAMS[3];\n",
    "    pGamma_n = PARAMS[4];\n",
    "    pC0 = PARAMS[5];\n",
    "    pEta = PARAMS[6];\n",
    "    pDelta = PARAMS[7];\n",
    "    pRho_x = PARAMS[8];\n",
    "    pMu_m = PARAMS[9];\n",
    "    pGamma = PARAMS[10];\n",
    "    pBeta = PARAMS[11];\n",
    "\n",
    "    F[1] = x[4]^pAlpha*x[5]^(1-pAlpha) -pDelta*x[4] -pC0*x[3]^pEta*(1-x[5])-pGamma*x[2]-x[1]\n",
    "    F[2] = (1-pRho_x)*x[5] + pMu_m*x[2]^(1-pAlpha_m)*( x[3]*(1-x[5]) )^pAlpha_m - x[5]\n",
    "    F[3] = pBeta*( pAlpha*x[4]^(pAlpha-1)*x[5]^(1-pAlpha) + (1-pDelta) ) - 1\n",
    "    F[4] = pBeta*( -pTheta*x[5]^(-pGamma_n) + x[6]*( (1-pAlpha)*x[4]^pAlpha*x[5]^(-pAlpha)+pC0*x[3]^pEta ) \n",
    "                + x[7]*( (1-pRho_x)-pMu_m*pAlpha_m*x[2]^(1-pAlpha_m)*x[3]^pAlpha_m*(1-x[5])^(pAlpha_m-1) ) ) - x[7]\n",
    "    F[5] = 1/x[1] - x[6]\n",
    "    F[6] = x[7]*( pMu_m*(1-pAlpha_m)*x[2]^(-pAlpha_m)*( x[3]*(1-x[5]) )^(pAlpha_m) )-pGamma*x[6]\n",
    "    F[7] = x[7]*pMu_m*x[2]^(1-pAlpha_m)*pAlpha_m*x[3]^(pAlpha_m-1)*(1-x[5])^pAlpha_m-x[6]*pC0*pEta*x[3]^(pEta-1)*(1-x[5])\n",
    "\n",
    "end\n",
    "\n",
    "\n",
    "SteadyState = nlsolve((F,x) ->f!(F,x,PARAMS), [ 2.67, 0.02, 2.3, 39, 0.92, 0.37, 0.01 ], iterations = 1000 , method = :newton)\n",
    "\n",
    "# Defining the steady state\n",
    "dSss = SteadyState.zero[3];\n",
    "dKss = SteadyState.zero[4];\n",
    "dNss = SteadyState.zero[5];\n"
   ]
  },
  {
   "cell_type": "code",
   "execution_count": 7,
   "metadata": {},
   "outputs": [],
   "source": [
    "# Algorithm related parameters\n",
    "iIter = 5000;\n",
    "iGridPointsK = 30;\n",
    "iGridPointsN = 2;\n",
    "iToler = 10e-6;\n",
    "\n",
    "# Constructing the grid\n",
    "dKmin = dKss * 0.7;\n",
    "dKmax = dKss * 1.37;\n",
    "dNmin = dNss * 0.99;\n",
    "dNmax = dNss * 1.01;\n",
    "\n",
    "\n",
    "iStepK = (dKmax-dKmin) / (iGridPointsK-1);\n",
    "vK = collect(dKmin:iStepK:dKmax);\n",
    "iGridPointsK = size(vK,1);\n",
    "\n",
    "iStepN = (dNmax-dNmin) / (iGridPointsN-1);\n",
    "vN = collect(dNmin:iStepN:dNmax);\n",
    "iGridPointsN = size(vN,1);"
   ]
  },
  {
   "cell_type": "code",
   "execution_count": 10,
   "metadata": {},
   "outputs": [],
   "source": [
    "mK_S = zeros(iGridPointsK, iGridPointsK);\n",
    "mN_S = zeros(iGridPointsN, iGridPointsN);\n",
    "\n",
    "# Storage space\n",
    "for idxKP = 1:iGridPointsK\n",
    "    for idxK = 1:iGridPointsK\n",
    "        mK_S[idxKP,idxK] = vK[idxK];\n",
    "    end\n",
    "end\n",
    "\n",
    "for idxNP = 1:iGridPointsN\n",
    "    for idxN = 1:iGridPointsN\n",
    "        mN_S[idxNP,idxN] = vN[idxN];\n",
    "    end\n",
    "end\n",
    "\n",
    "\n",
    "mK = kron( ones(iGridPointsN,iGridPointsN), mK_S  );\n",
    "mKP = mK';\n",
    "\n",
    "mN = kron( mN_S, ones(iGridPointsK,iGridPointsK) );\n",
    "mNP = mN';\n",
    "\n",
    "TEMP_A = ( 1 ./ pMu_m*dSss );\n",
    "TEMP_B = ( mNP-(1-pRho_x) .* mN );\n",
    "TEMP_C = ( ones(size(mN))-mN );\n",
    "TEMP_D = (-pAlpha_m);\n",
    "TEMP_E = ( 1 ./ (1-pAlpha_m) );\n",
    "\n",
    "mV = ( TEMP_A .* TEMP_B .* TEMP_C .^ TEMP_D ) .^ TEMP_E;\n",
    "\n",
    "TEMP_F = mK.^pAlpha .* mN.^(1-pAlpha);\n",
    "TEMP_G = -mKP + (1-pDelta).*mK;\n",
    "TEMP_H = -pC0*dSss^pEta;\n",
    "TEMP_I = -pGamma.*mV;\n",
    "\n",
    "mC = TEMP_F + TEMP_G .+ TEMP_H + TEMP_I;\n",
    "\n",
    "#display( mC )"
   ]
  },
  {
   "cell_type": "code",
   "execution_count": 11,
   "metadata": {},
   "outputs": [],
   "source": [
    "# Eliminate negative consumption\n",
    "mCP = mC .> 0;\n",
    "mPC = ones(iGridPointsK*iGridPointsN, iGridPointsK*iGridPointsN) - mCP;\n",
    "z = 10e-5;\n",
    "mC = mC.*mCP + z*mPC;\n",
    "\n",
    "# Initialize value function\n",
    "mU = log.( mC ) .+ pTheta.*( ( mN.^(1-pGamma_n) )./(1-pGamma_n) );\n",
    "\n",
    "mCF = mC;\n",
    "\n",
    "mVNew = log.(mCF);\n",
    "global vVOld = fun_max( mU+pBeta*mVNew ); # ( [iGridPointsK*iGridPointsN] x 1 )\n",
    "\n",
    "\n",
    "vEps = zeros(iIter,1);"
   ]
  },
  {
   "cell_type": "code",
   "execution_count": 12,
   "metadata": {},
   "outputs": [
    {
     "name": "stdout",
     "output_type": "stream",
     "text": [
      "\n",
      "\n",
      "Iterations needed to reach convergence : 1090\n"
     ]
    }
   ],
   "source": [
    "global counter = 0;\n",
    "### Main Iteration - BEGIN ###\n",
    "for idxIter=1:iIter\n",
    "\n",
    " global vVOld;\n",
    " global  counter;\n",
    "\n",
    " vVNew = fun_max(mU+pBeta*(ones(iGridPointsN*iGridPointsK,1)*vVOld')');\n",
    "\n",
    " iDiff = ( abs.(vVOld-vVNew) ) ./ vVOld;\n",
    "\n",
    " dEps = sum(sqrt.((iDiff).^2));\n",
    " vEps[idxIter,1] = dEps;\n",
    "\n",
    " if sum(sqrt.((iDiff).^2)) <= iToler\n",
    "  vVOld = vVNew;\n",
    "  break\n",
    " else\n",
    "  vVOld = vVNew;\n",
    " end\n",
    " \n",
    " counter = counter + 1;\n",
    "\n",
    "end\n",
    "### Main Iteration - END ###\n",
    "\n",
    "print(\"\\n\");\n",
    "print(\"\\n\");\n",
    "print(\"Iterations needed to reach convergence : \")\n",
    "print(counter);\n",
    "print(\"\\n\");"
   ]
  },
  {
   "cell_type": "code",
   "execution_count": 15,
   "metadata": {},
   "outputs": [
    {
     "name": "stdout",
     "output_type": "stream",
     "text": [
      "Maximum value\n",
      "[141.07398756940026; 141.39485913651927; 141.86114779550397; 142.3218564385664; 142.7774826690444; 143.22849229093876; 143.67532252875833; 144.11838484802686; 144.55806743573095; 144.9947373898357; 145.4162022877758; 145.81728322642618; 146.19894856424912; 146.56209700828475; 146.90756405249505; 147.23612769093018; 147.54851350145614; 147.84853098332496; 148.1445637521711; 148.438015809016; 148.7304329870146; 149.02172808992893; 149.3118182939066; 149.60062490521398; 149.88807313493615; 150.1740918891656; 150.458613573353; 150.74157390963163; 151.0229117660431; 151.30256899670096; 141.0909744134259; 141.4358846679714; 141.90058645833892; 142.35997313814957; 142.81452819416234; 143.2647046784214; 143.7109282700829; 144.15359995997812; 144.59309841362034; 145.02978205886305; 145.4513239171253; 145.85248218717038; 146.23422522597266; 146.5974517397568; 146.9429972222652; 147.2716396678581; 147.5841046551838; 147.88106988258994; 148.17553442081305; 148.46905574917426; 148.76154205562332; 149.05290616048921; 149.34306525566188; 149.6319406623887; 149.91945760603275; 150.20554500631374; 150.49013528170698; 150.77316416681123; 151.05457054161477; 151.33429627169545]\n",
      "\n",
      "Index\n",
      "[60.0; 32.0; 33.0; 34.0; 35.0; 36.0; 37.0; 38.0; 39.0; 40.0; 41.0; 42.0; 43.0; 44.0; 45.0; 46.0; 47.0; 47.0; 48.0; 49.0; 50.0; 51.0; 52.0; 53.0; 54.0; 55.0; 56.0; 57.0; 58.0; 59.0; 60.0; 33.0; 34.0; 35.0; 36.0; 37.0; 38.0; 39.0; 40.0; 40.0; 41.0; 42.0; 43.0; 44.0; 45.0; 46.0; 47.0; 48.0; 48.0; 49.0; 50.0; 51.0; 52.0; 53.0; 54.0; 55.0; 56.0; 57.0; 58.0; 59.0]\n",
      "\n",
      "Capital grid\n",
      "[27.924626738336997, 28.846276980439747, 29.767927222542493, 30.689577464645243, 31.61122770674799, 32.53287794885074, 33.45452819095349, 34.37617843305624, 35.29782867515898, 36.21947891726173, 37.14112915936448, 38.06277940146723, 38.98442964356998, 39.906079885672725, 40.827730127775475, 41.749380369878224, 42.671030611980974, 43.592680854083724, 44.51433109618647, 45.43598133828922, 46.35763158039197, 47.27928182249471, 48.20093206459747, 49.12258230670021, 50.04423254880296, 50.96588279090571, 51.88753303300845, 52.80918327511121, 53.73083351721395, 54.6524837593167]\n",
      "\n",
      "Employment grid\n",
      "[0.9041434489033476, 0.9224089731236172]"
     ]
    }
   ],
   "source": [
    "plot(vEps[100:iIter],legend=false,title=\"Convergence of the value iteration\")\n",
    "xlabel!(\"iterations\")\n",
    "ylabel!(\"epsilon\")\n",
    "\n",
    "# Preparing maximum values and indices for policy function\n",
    "maxR = fun_max(mU+pBeta*(ones(iGridPointsK*iGridPointsN,1)*vVOld')');\n",
    "idxR = fun_max_index(mU+pBeta*(ones(iGridPointsK*iGridPointsN,1)*vVOld')');\n",
    "\n",
    "print(\"Maximum value\");\n",
    "print(\"\\n\");\n",
    "print(maxR);\n",
    "print(\"\\n\");\n",
    "print(\"\\n\");\n",
    "print(\"Index\")\n",
    "print(\"\\n\");\n",
    "print(idxR);\n",
    "print(\"\\n\");\n",
    "print(\"\\n\");\n",
    "print(\"Capital grid\");\n",
    "print(\"\\n\");\n",
    "print(vK);\n",
    "print(\"\\n\");\n",
    "print(\"\\n\");\n",
    "print(\"Employment grid\");\n",
    "print(\"\\n\");\n",
    "print(vN);"
   ]
  },
  {
   "cell_type": "code",
   "execution_count": 17,
   "metadata": {},
   "outputs": [
    {
     "name": "stdout",
     "output_type": "stream",
     "text": [
      "\n",
      "\n"
     ]
    },
    {
     "data": {
      "text/plain": [
       "60×60 Array{Float64,2}:\n",
       " 2.47301   3.41093  4.34812   5.2846    …  27.665     28.5911   29.5169\n",
       " 1.55136   2.48928  3.42647   4.36295      26.7433    27.6694   28.5953\n",
       " 0.629705  1.56763  2.50482   3.4413       25.8217    26.7478   27.6736\n",
       " 0.0001    0.64598  1.58316   2.51965      24.9       25.8261   26.752\n",
       " 0.0001    0.0001   0.661515  1.598        23.9784    24.9045   25.8303\n",
       " 0.0001    0.0001   0.0001    0.676347  …  23.0567    23.9828   24.9087\n",
       " 0.0001    0.0001   0.0001    0.0001       22.1351    23.0612   23.987\n",
       " 0.0001    0.0001   0.0001    0.0001       21.2134    22.1395   23.0654\n",
       " 0.0001    0.0001   0.0001    0.0001       20.2918    21.2179   22.1437\n",
       " 0.0001    0.0001   0.0001    0.0001       19.3701    20.2962   21.2221\n",
       " 0.0001    0.0001   0.0001    0.0001    …  18.4485    19.3746   20.3004\n",
       " 0.0001    0.0001   0.0001    0.0001       17.5268    18.4529   19.3788\n",
       " 0.0001    0.0001   0.0001    0.0001       16.6052    17.5313   18.4571\n",
       " ⋮                                      ⋱                       \n",
       " 0.0001    0.0001   0.0001    0.0001       11.0704    11.9965   12.9223\n",
       " 0.0001    0.0001   0.0001    0.0001       10.1487    11.0748   12.0007\n",
       " 0.0001    0.0001   0.0001    0.0001    …   9.22708   10.1532   11.079\n",
       " 0.0001    0.0001   0.0001    0.0001        8.30543    9.23154  10.1574\n",
       " 0.0001    0.0001   0.0001    0.0001        7.38378    8.30989   9.23574\n",
       " 0.0001    0.0001   0.0001    0.0001        6.46212    7.38824   8.31409\n",
       " 0.0001    0.0001   0.0001    0.0001        5.54047    6.46659   7.39244\n",
       " 0.0001    0.0001   0.0001    0.0001    …   4.61882    5.54494   6.47079\n",
       " 0.0001    0.0001   0.0001    0.0001        3.69717    4.62329   5.54914\n",
       " 0.0001    0.0001   0.0001    0.0001        2.77552    3.70164   4.62749\n",
       " 0.0001    0.0001   0.0001    0.0001        1.85387    2.77999   3.70584\n",
       " 0.0001    0.0001   0.0001    0.0001        0.932223   1.85834   2.78419"
      ]
     },
     "metadata": {},
     "output_type": "display_data"
    },
    {
     "name": "stdout",
     "output_type": "stream",
     "text": [
      "Arrays have incorrect length or dimension.\n"
     ]
    }
   ],
   "source": [
    "print(\"\\n\");\n",
    "print(\"\\n\");\n",
    "\n",
    "# Extending the grid where we evaluate variables\n",
    "vK_L = kron( ones(iGridPointsN,1), vK );\n",
    "vN_L = reshape( kron(vN, ones(iGridPointsK)), iGridPointsK*iGridPointsN,1) ;\n",
    "\n",
    "\n",
    "policyC = ones(iGridPointsK*iGridPointsN,1);\n",
    "\n",
    "for idx = 1:iGridPointsK*iGridPointsN\n",
    "    policyC[idx] = mC[ floor(Int, idxR[idx]) , idx ]\n",
    "end\n",
    "\n",
    "policyC\n",
    "\n",
    "graph1=plot(vN_L,vK_L,policyC, st = [:surface, :contourf],legend=false,title=\"Consumption decision\")\n",
    "xlabel!(\"N\")\n",
    "ylabel!(\"K\")\n",
    "savefig(graph1,\"../output/graph1\")\n",
    "\n",
    "graph2=plot(vN_L,vK_L,policyC, st = [:surface], camera=(49,29),title=\"Consumption decision\")\n",
    "xlabel!(\"N\")\n",
    "ylabel!(\"K\")\n",
    "savefig(graph2,\"../output/graph2\")\n",
    "\n",
    "# Extending the grid where we evaluate variables\n",
    "vK_L = kron( ones(iGridPointsN,1), vK );\n",
    "vN_L = kron(vN, ones(iGridPointsK));\n",
    "\n",
    "# Constructing policy functions: Storage space\n",
    "vKP = zeros(iGridPointsN*iGridPointsK,1);\n",
    "vC_L = zeros(iGridPointsN*iGridPointsK,1);\n",
    "vNP = zeros(iGridPointsN*iGridPointsK,1);\n",
    "\n",
    "VA = zeros(iGridPointsN*iGridPointsK,1);\n",
    "VB = zeros(iGridPointsN*iGridPointsK,1);\n",
    "vV = zeros(iGridPointsN*iGridPointsK,1);\n",
    "\n",
    "display(mC)\n"
   ]
  },
  {
   "cell_type": "code",
   "execution_count": null,
   "metadata": {},
   "outputs": [],
   "source": []
  }
 ],
 "metadata": {
  "kernelspec": {
   "display_name": "Julia 1.5.3",
   "language": "julia",
   "name": "julia-1.5"
  },
  "language_info": {
   "file_extension": ".jl",
   "mimetype": "application/julia",
   "name": "julia",
   "version": "1.5.3"
  }
 },
 "nbformat": 4,
 "nbformat_minor": 4
}
