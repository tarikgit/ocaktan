{
 "cells": [
  {
   "cell_type": "code",
   "execution_count": 1,
   "metadata": {},
   "outputs": [],
   "source": [
    "### CORD-19 data analysis ###\n",
    "### Original source: kaggle.com ###\n",
    "\n",
    "import numpy as np\n",
    "import pandas as pd\n",
    "\n",
    "import os\n",
    "import json"
   ]
  },
  {
   "cell_type": "code",
   "execution_count": 2,
   "metadata": {},
   "outputs": [
    {
     "name": "stdout",
     "output_type": "stream",
     "text": [
      "Files: 13211\n",
      "Files extensions: {'txt', 'DS_Store', 'json', 'readme', 'csv', 'pdf'}\n",
      "\n",
      "=====================\n",
      "Files extension count:\n",
      "=====================\n",
      "txt: 1\n",
      "DS_Store: 5\n",
      "json: 13202\n",
      "readme: 1\n",
      "csv: 1\n",
      "pdf: 1\n"
     ]
    }
   ],
   "source": [
    "### Explore data ###\n",
    "count = 0\n",
    "file_exts = []\n",
    "for dirname, _, filenames in os.walk('/Users/tarikz/Webpage/data/2020-03-13/'):\n",
    "    for filename in filenames:\n",
    "        count += 1\n",
    "        file_ext = filename.split(\".\")[-1]\n",
    "        file_exts.append(file_ext)\n",
    "\n",
    "file_ext_set = set(file_exts)\n",
    "\n",
    "print(f\"Files: {count}\")\n",
    "print(f\"Files extensions: {file_ext_set}\\n\\n=====================\\nFiles extension count:\\n=====================\")\n",
    "file_ext_list = list(file_ext_set)\n",
    "for fe in file_ext_list:\n",
    "    fe_count = file_exts.count(fe)\n",
    "    print(f\"{fe}: {fe_count}\")"
   ]
  },
  {
   "cell_type": "code",
   "execution_count": 6,
   "metadata": {},
   "outputs": [
    {
     "name": "stdout",
     "output_type": "stream",
     "text": [
      "/Users/tarikz/Webpage/data/2020-03-13/ ['pmc_custom_license', 'noncomm_use_subset', 'biorxiv_medrxiv', 'comm_use_subset']\n",
      "/Users/tarikz/Webpage/data/2020-03-13/pmc_custom_license ['pmc_custom_license']\n",
      "/Users/tarikz/Webpage/data/2020-03-13/pmc_custom_license/pmc_custom_license []\n",
      "/Users/tarikz/Webpage/data/2020-03-13/noncomm_use_subset ['noncomm_use_subset']\n",
      "/Users/tarikz/Webpage/data/2020-03-13/noncomm_use_subset/noncomm_use_subset []\n",
      "/Users/tarikz/Webpage/data/2020-03-13/biorxiv_medrxiv ['biorxiv_medrxiv']\n",
      "/Users/tarikz/Webpage/data/2020-03-13/biorxiv_medrxiv/biorxiv_medrxiv []\n",
      "/Users/tarikz/Webpage/data/2020-03-13/comm_use_subset ['comm_use_subset']\n",
      "/Users/tarikz/Webpage/data/2020-03-13/comm_use_subset/comm_use_subset []\n"
     ]
    }
   ],
   "source": [
    "### Explore structure of directories ###\n",
    "count = 0\n",
    "for root, folders, filenames in os.walk('/Users/tarikz/Webpage/data/2020-03-13/'):\n",
    "    print(root, folders)"
   ]
  },
  {
   "cell_type": "code",
   "execution_count": null,
   "metadata": {},
   "outputs": [],
   "source": [
    "### Read a jsonn file ###\n",
    "json_folder_path = \"/Users/tarikz/Webpage/data/2020-03-13/pmc_custom_license/pmc_custom_license\"\n",
    "json_file_name = os.listdir(json_folder_path)[0]\n",
    "json_path = os.path.join(json_folder_path, json_file_name)\n",
    "\n",
    "with open(json_path) as json_file:\n",
    "    json_data = json.load(json_file)"
   ]
  }
 ],
 "metadata": {
  "kernelspec": {
   "display_name": "Python 3",
   "language": "python",
   "name": "python3"
  },
  "language_info": {
   "codemirror_mode": {
    "name": "ipython",
    "version": 3
   },
   "file_extension": ".py",
   "mimetype": "text/x-python",
   "name": "python",
   "nbconvert_exporter": "python",
   "pygments_lexer": "ipython3",
   "version": "3.7.2"
  }
 },
 "nbformat": 4,
 "nbformat_minor": 2
}
