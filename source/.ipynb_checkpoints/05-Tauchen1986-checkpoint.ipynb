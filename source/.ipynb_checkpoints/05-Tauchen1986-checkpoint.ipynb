{
 "cells": [
  {
   "cell_type": "code",
   "execution_count": 100,
   "id": "a439028a-ef49-450e-a3bb-ae94fb7b0798",
   "metadata": {},
   "outputs": [
    {
     "data": {
      "text/plain": [
       "4-element Array{Float64,1}:\n",
       " -0.04803844614152614\n",
       " -0.016012815380508715\n",
       "  0.016012815380508708\n",
       "  0.04803844614152614"
      ]
     },
     "execution_count": 100,
     "metadata": {},
     "output_type": "execute_result"
    }
   ],
   "source": [
    "using Random, Distributions\n",
    "\n",
    "# Testing parameters (delete this!)\n",
    "pRho = 0.95\n",
    "pSigmaEps = 0.005\n",
    "pLambda = 3\n",
    "pM = 4\n",
    "\n",
    "pSigmaZ = sqrt( pSigmaEps^2/(1-pRho^2) )\n",
    "zBar = pLambda*pSigmaZ\n",
    "zt = collect( -zBar:( 2*zBar/(pM-1) ):( -zBar+(pM-1)*( 2*zBar/(pM-1) ) ) )\n",
    "\n",
    "\n",
    "mP = ones(pM,pM)\n",
    "\n",
    "i = 1\n",
    "\n",
    "while i <= pM\n",
    "    \n",
    "    mP[i,1]   = Distributions.cdf( Normal(), (zt[1]-pRho*zt[i]+(zt[2]-zt[1])/2)/pSigmaEps ); \n",
    "    \n",
    "    j = 2\n",
    "\n",
    "    while j <= (pM-1)\n",
    "     \n",
    "        mP[i, j] =  Distributions.cdf(Normal(), (zt[j]-pRho*zt[i]+(zt[j]-zt[j-1])/2)/pSigmaEps ) - Distributions.cdf(Normal(), (zt[j]-pRho*zt[i]-(zt[j]-zt[j-1])/2)/pSigmaEps );\n",
    "        j = j + 1\n",
    "        \n",
    "    end\n",
    "        \n",
    "    i = i + 1\n",
    "    \n",
    "end\n",
    "\n",
    "\n",
    "mP[1:pM, pM]=mP[1:pM, pM]-sum( mP[1:pM,1:(pM-1)], dims=2 )\n",
    "\n",
    "#mP\n",
    "#zt\n"
   ]
  },
  {
   "cell_type": "code",
   "execution_count": 36,
   "id": "24dbebd6-7832-4928-8571-428371f78781",
   "metadata": {},
   "outputs": [
    {
     "data": {
      "text/plain": [
       "5×1 Array{Float64,2}:\n",
       " 1.0\n",
       " 1.0\n",
       " 1.0\n",
       " 1.0\n",
       " 1.0"
      ]
     },
     "execution_count": 36,
     "metadata": {},
     "output_type": "execute_result"
    }
   ],
   "source": [
    "function zt, mP = fnTauchen(pRho, pSigmaEps, pLambda, pM)\n",
    "\n",
    "    pSigmaZ = sqrt( pSigmaEps^2/(1-pRho^2) )\n",
    "    zBar = pLambda*pSigmaZ\n",
    "    zt = collect( -zBar:( 2*zBar/(pM-1) ):( -zBar+(pM-1)*( 2*zBar/(pM-1) ) ) )\n",
    "\n",
    "\n",
    "    mP = ones(pM,pM)\n",
    "\n",
    "    i = 1\n",
    "\n",
    "    while i <= pM\n",
    "    \n",
    "        mP[i,1]   = Distributions.cdf( Normal(), (zt[1]-pRho*zt[i]+(zt[2]-zt[1])/2)/pSigmaEps ); \n",
    "    \n",
    "        j = 2\n",
    "\n",
    "        while j <= (pM-1)\n",
    "     \n",
    "            mP[i, j] =  Distributions.cdf(Normal(), (zt[j]-pRho*zt[i]+(zt[j]-zt[j-1])/2)/pSigmaEps ) - Distributions.cdf(Normal(), (zt[j]-pRho*zt[i]-(zt[j]-zt[j-1])/2)/pSigmaEps );\n",
    "            j = j + 1\n",
    "        \n",
    "        end\n",
    "        \n",
    "        i = i + 1\n",
    "    \n",
    "    end\n",
    "\n",
    "\n",
    "    mP = mP[1:pM, pM]=mP[1:pM, pM]-sum( mP[1:pM,1:(pM-1)], dims=2 )\n",
    "\n",
    "    \n",
    "end"
   ]
  },
  {
   "cell_type": "code",
   "execution_count": 25,
   "id": "f396fb8b-6035-4779-bd91-02d5f32da827",
   "metadata": {},
   "outputs": [
    {
     "data": {
      "text/plain": [
       "3×4 LinearAlgebra.Adjoint{Int64,Array{Int64,2}}:\n",
       "  0   2   4   6\n",
       "  8  10  12  14\n",
       " 16  18  20  22"
      ]
     },
     "execution_count": 25,
     "metadata": {},
     "output_type": "execute_result"
    }
   ],
   "source": [
    "x = collect(0:2:22)\n",
    "x = reshape(x, (4,3))'\n"
   ]
  },
  {
   "cell_type": "code",
   "execution_count": 26,
   "id": "d0501187-93f5-4cc8-a634-2b92f5764d8f",
   "metadata": {},
   "outputs": [
    {
     "data": {
      "text/plain": [
       "4×1 LinearAlgebra.Adjoint{Int64,Array{Int64,2}}:\n",
       " 24\n",
       " 30\n",
       " 36\n",
       " 42"
      ]
     },
     "execution_count": 26,
     "metadata": {},
     "output_type": "execute_result"
    }
   ],
   "source": [
    "x\n",
    "y = sum(x, dims=1)'"
   ]
  },
  {
   "cell_type": "code",
   "execution_count": null,
   "id": "96ce41be-e7f7-4afc-95af-c578c08e48d2",
   "metadata": {},
   "outputs": [],
   "source": []
  }
 ],
 "metadata": {
  "kernelspec": {
   "display_name": "Julia 1.5.3",
   "language": "julia",
   "name": "julia-1.5"
  },
  "language_info": {
   "file_extension": ".jl",
   "mimetype": "application/julia",
   "name": "julia",
   "version": "1.5.3"
  }
 },
 "nbformat": 4,
 "nbformat_minor": 5
}
