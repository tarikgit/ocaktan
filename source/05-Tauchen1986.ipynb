{
 "cells": [
  {
   "cell_type": "code",
   "execution_count": 109,
   "id": "a439028a-ef49-450e-a3bb-ae94fb7b0798",
   "metadata": {},
   "outputs": [],
   "source": [
    "using Random, Distributions"
   ]
  },
  {
   "cell_type": "markdown",
   "id": "d4c68c4f-8112-4fb2-a4e1-8a46db29a233",
   "metadata": {
    "tags": []
   },
   "source": [
    "== Finite State Markov Chain Approximation of AR(1) Process\n",
    "\n",
    "For further details see Heer and Maussner, 2009 (p.222)\n",
    "\n",
    "Consider the process:\n",
    "\\begin{eqnarray}\n",
    "  z_{t+1} = \\rho z_t + \\epsilon_t, \\hspace{1cm} \\epsilon_t \\sim N(0, \\sigma^{2}_{\\epsilon}) \\nonumber\n",
    "\\end{eqnarray}\n",
    "\n",
    "* Select the _size_ of the grid by choosing $\\lambda \\in R_{++}$ so that\n",
    "  \\begin{equation}\n",
    "   z_1 = - \\frac{\\lambda \\sigma_{\\epsilon}}{\\sqrt{1 - \\rho^2}}\n",
    "  \\end{equation}\n",
    "* Choose the number of grid points $m$\n",
    "* Put  $step= - \\frac{2 z_1}{(m-1)}$ and for $i=1, 2, \\ldots , m $ compute $z_i = z_1 + (i-1) step$\n",
    "* Compute the _transition matrix_ $P=(p_{ij})$. Let $\\pi(\\cdot)$ denote the _cumulative distribution function_ of the standard normal distribution. For $ i=1, 2, \\ldots, m $ put\n",
    "  \\begin{equation}\n",
    "     p_{i1} = \\pi \\left( \\frac{z_1 - \\rho z_i}{ \\sigma_{\\epsilon} }  + \\frac{step}{2 \\sigma_{\\epsilon}} \\right) \\nonumber \\\\\n",
    "     p_{ij} = \\pi \\left( \\frac{z_j - \\rho z_i}{\\sigma_{\\epsilon}} + \\frac{step}{2 \\sigma_{\\epsilon}} \\right) - \\pi \\left( \\frac{z_j - \\rho z_i}{\\sigma_{\\epsilon}} - \\frac{step}{2 \\sigma_{\\epsilon}} \\right) \\mbox{ , } j=2,3,\\ldots,m-1 \\nonumber \\\\\n",
    "     p_{im} = 1 - \\Sigma^{m-1}_{j=1} p_{ij} \\nonumber\n",
    "  \\end{equation}\n",
    "\n",
    "The following Julia function takes $\\rho$, $\\sigma_{\\epsilon}$, $\\lambda$ and $m$ as input and returns the vector $z=[z_1, z_2, \\ldots, z_m]'$ and the transition matrix $P$.\n"
   ]
  },
  {
   "cell_type": "code",
   "execution_count": 107,
   "id": "24dbebd6-7832-4928-8571-428371f78781",
   "metadata": {},
   "outputs": [
    {
     "data": {
      "text/plain": [
       "fnTauchen (generic function with 1 method)"
      ]
     },
     "execution_count": 107,
     "metadata": {},
     "output_type": "execute_result"
    }
   ],
   "source": [
    "function fnTauchen(pRho, pSigmaEps, pLambda, pM)\n",
    "\n",
    "    pSigmaZ = sqrt( pSigmaEps^2/(1-pRho^2) )\n",
    "    zBar = pLambda*pSigmaZ\n",
    "    zt = collect( -zBar:( 2*zBar/(pM-1) ):( -zBar+(pM-1)*( 2*zBar/(pM-1) ) ) )\n",
    "\n",
    "\n",
    "    mP = ones(pM,pM)\n",
    "\n",
    "    i = 1\n",
    "\n",
    "    while i <= pM\n",
    "    \n",
    "        mP[i,1]   = Distributions.cdf( Normal(), (zt[1]-pRho*zt[i]+(zt[2]-zt[1])/2)/pSigmaEps ); \n",
    "    \n",
    "        j = 2\n",
    "\n",
    "        while j <= (pM-1)\n",
    "     \n",
    "            mP[i, j] =  Distributions.cdf(Normal(), (zt[j]-pRho*zt[i]+(zt[j]-zt[j-1])/2)/pSigmaEps ) - Distributions.cdf(Normal(), (zt[j]-pRho*zt[i]-(zt[j]-zt[j-1])/2)/pSigmaEps );\n",
    "            j = j + 1\n",
    "        \n",
    "        end\n",
    "        \n",
    "        i = i + 1\n",
    "    \n",
    "    end\n",
    "\n",
    "\n",
    "    mP[1:pM, pM]=mP[1:pM, pM]-sum( mP[1:pM,1:(pM-1)], dims=2 )\n",
    "\n",
    "    return zt, mP\n",
    "    \n",
    "    \n",
    "end"
   ]
  },
  {
   "cell_type": "code",
   "execution_count": 108,
   "id": "f396fb8b-6035-4779-bd91-02d5f32da827",
   "metadata": {},
   "outputs": [
    {
     "data": {
      "text/plain": [
       "4×4 Array{Float64,2}:\n",
       " 0.996757     0.00324265   0.0         0.0\n",
       " 0.000385933  0.998441     0.00117336  0.0\n",
       " 1.73409e-21  0.00117336   0.998441    0.000385933\n",
       " 1.04647e-54  3.51129e-20  0.00324265  0.996757"
      ]
     },
     "execution_count": 108,
     "metadata": {},
     "output_type": "execute_result"
    }
   ],
   "source": [
    "\n",
    "zt, mP = fnTauchen(0.95, 0.005, 3, 4)\n",
    "\n",
    "mP"
   ]
  }
 ],
 "metadata": {
  "kernelspec": {
   "display_name": "Julia 1.5.3",
   "language": "julia",
   "name": "julia-1.5"
  },
  "language_info": {
   "file_extension": ".jl",
   "mimetype": "application/julia",
   "name": "julia",
   "version": "1.5.3"
  }
 },
 "nbformat": 4,
 "nbformat_minor": 5
}
